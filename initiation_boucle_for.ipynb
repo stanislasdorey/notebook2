{
 "cells": [
  {
   "cell_type": "markdown",
   "metadata": {},
   "source": [
    "# La boucle for\n",
    "\n",
    "<b>Consigne : réfléchir à ce que la cellule ci-dessous devrait afficher si on l'exécute. Puis, l'exécuter pour vérifier.</b>\n",
    "\n",
    "<i>Rappel, pour exécuter le code d'une cellule, il faut cliquer sur le bouton <code>▶| Exécuter</code> en haut de la page ou appuyer simultanément sur les touches <code>Ctrl</code> + <code>Entrée</code>."
   ]
  },
  {
   "cell_type": "code",
   "execution_count": null,
   "metadata": {},
   "outputs": [],
   "source": [
    "for n in range(6):\n",
    "    print(n)"
   ]
  },
  {
   "cell_type": "markdown",
   "metadata": {},
   "source": [
    "<b>Consigne : réfléchir à ce que la cellule ci-dessous devrait afficher si on l'exécute. Puis, l'exécuter pour vérifier.</b>"
   ]
  },
  {
   "cell_type": "code",
   "execution_count": null,
   "metadata": {},
   "outputs": [],
   "source": [
    "for lettre in \"SVT\":\n",
    "    print(lettre)"
   ]
  },
  {
   "cell_type": "markdown",
   "metadata": {},
   "source": [
    "<b>Consigne : écrire un programme qui affiche le résultat ci-dessous en utilisant une boucle « for » :</b><br>\n",
    "2<br>\n",
    "4<br>\n",
    "6<br>\n",
    "8<br>\n",
    "10<br>\n",
    "Au revoir !"
   ]
  },
  {
   "cell_type": "code",
   "execution_count": null,
   "metadata": {},
   "outputs": [],
   "source": []
  },
  {
   "cell_type": "markdown",
   "metadata": {},
   "source": [
    "<details><summary><i style=\"color:#03A72D\">Cliquer ici pour avoir un exemple de réponse possible à la question précédente</i></summary>\n",
    "\n",
    "```python\n",
    "for i in range(5):\n",
    "    print(i*2+2)\n",
    "print(\"Au revoir !\")\n",
    "    \n",
    "```\n",
    "\n",
    "</details>\n",
    "\n",
    "\n",
    "<b>Consigne : écrire un programme qui affiche le résultat ci-dessous en utilisant une boucle « for » :</b><br>\n",
    "A<br>\n",
    "D<br>\n",
    "N<br>"
   ]
  },
  {
   "cell_type": "code",
   "execution_count": null,
   "metadata": {},
   "outputs": [],
   "source": []
  },
  {
   "cell_type": "markdown",
   "metadata": {},
   "source": [
    "<details><summary><i style=\"color:#03A72D\">Cliquer ici pour avoir un exemple de réponse possible à la question précédente</i></summary>\n",
    "\n",
    "```python\n",
    "for i in \"ADN\":\n",
    "    print(i)\n",
    "    \n",
    "```\n",
    "\n",
    "</details>\n",
    "\n",
    "\n",
    "<b>Consigne : réfléchir à ce que les cellules ci-dessous devraient afficher si elles sont exécutées. Puis, les exécuter pour vérifier.</b>"
   ]
  },
  {
   "cell_type": "code",
   "execution_count": null,
   "metadata": {},
   "outputs": [],
   "source": [
    "i = 2\n",
    "for i in range(4):\n",
    "    print(i)"
   ]
  },
  {
   "cell_type": "code",
   "execution_count": null,
   "metadata": {},
   "outputs": [],
   "source": [
    "for lettre in 'hola':\n",
    "    print(lettre)"
   ]
  },
  {
   "cell_type": "code",
   "execution_count": null,
   "metadata": {},
   "outputs": [],
   "source": [
    "compteur = 0\n",
    "for lettre in 'SVT':\n",
    "    print(compteur)\n",
    "    compteur = compteur + 1"
   ]
  },
  {
   "cell_type": "code",
   "execution_count": null,
   "metadata": {},
   "outputs": [],
   "source": [
    "compteur = 0\n",
    "for lettre in 'Programmation en Python':\n",
    "    if lettre == 'P':\n",
    "        compteur = compteur + 1\n",
    "print(compteur)"
   ]
  },
  {
   "cell_type": "markdown",
   "metadata": {},
   "source": [
    "<b>Consigne : compléter le programme ci-dessous afin qu'il compte le nombre de nucléotides A contenus dans « s ».</b>"
   ]
  },
  {
   "cell_type": "code",
   "execution_count": null,
   "metadata": {},
   "outputs": [],
   "source": [
    "s = 'ATTGCCAAT'\n",
    "\n"
   ]
  },
  {
   "cell_type": "markdown",
   "metadata": {},
   "source": [
    "<b>Consigne : compléter le programme ci-dessous afin qu'il compte le nombre de nucléotides A, T, C et G contenus dans « s ».</b>"
   ]
  },
  {
   "cell_type": "code",
   "execution_count": null,
   "metadata": {},
   "outputs": [],
   "source": [
    "s = 'ATTGCCAAT'\n",
    "\n"
   ]
  }
 ],
 "metadata": {
  "kernelspec": {
   "display_name": "Python 3",
   "language": "python",
   "name": "python3"
  },
  "language_info": {
   "codemirror_mode": {
    "name": "ipython",
    "version": 3
   },
   "file_extension": ".py",
   "mimetype": "text/x-python",
   "name": "python",
   "nbconvert_exporter": "python",
   "pygments_lexer": "ipython3",
   "version": "3.7.6"
  }
 },
 "nbformat": 4,
 "nbformat_minor": 4
}
