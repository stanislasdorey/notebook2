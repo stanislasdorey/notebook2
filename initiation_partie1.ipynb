{
 "cells": [
  {
   "cell_type": "markdown",
   "metadata": {},
   "source": [
    "<a href=\"https://www.python.org/\">Python</a> est un langage de programmation.\n",
    "\n",
    "# Premiers pas en Python\n",
    "\n",
    "Sur cette page, il est possible dans certaines cellules de rentrer du code Python et de l'exécuter.\n",
    "\n",
    "C'est par exemple le cas de la cellule ci-dessous. Pour exécuter le code, il faut cliquer dans la cellule, puis, cliquer sur le bouton <code>▶| Exécuter</code> en haut de la page.\n",
    "\n",
    "<b>Consigne : exécuter le code de la cellule ci-dessous.</b>"
   ]
  },
  {
   "cell_type": "code",
   "execution_count": null,
   "metadata": {},
   "outputs": [],
   "source": [
    "print(\"Bravo, le code s'est bien exécuté !\")"
   ]
  },
  {
   "cell_type": "markdown",
   "metadata": {},
   "source": [
    "Dans la cellule précédente, il y a la fonction <code>print()</code> qui permet d'afficher ce qui est entre les parenthèses.\n",
    "\n",
    "En Python, lorsqu'on écrit du texte, il faut qu'il soit entre des guillemets doubles <code>\"</code> ou simple <code>'</code>\n",
    "\n",
    "<b>Consigne : dans la cellule ci-dessous, utiliser la fonction <code>print()</code> pour afficher le texte de votre choix.</b>"
   ]
  },
  {
   "cell_type": "code",
   "execution_count": null,
   "metadata": {},
   "outputs": [],
   "source": []
  },
  {
   "cell_type": "markdown",
   "metadata": {},
   "source": [
    "Il est aussi possible d'afficher des nombres.\n",
    "\n",
    "<b>Consigne : exécuter le code de la cellule ci-dessous.</b>"
   ]
  },
  {
   "cell_type": "code",
   "execution_count": null,
   "metadata": {},
   "outputs": [],
   "source": [
    "print(5 + 6)"
   ]
  },
  {
   "cell_type": "markdown",
   "metadata": {},
   "source": [
    "<b>Consigne : dans la cellule ci-dessous, utiliser la fonction <code>print()</code> pour afficher le résultat d'un calcul de votre choix.</b>"
   ]
  },
  {
   "cell_type": "code",
   "execution_count": null,
   "metadata": {},
   "outputs": [],
   "source": []
  },
  {
   "cell_type": "markdown",
   "metadata": {},
   "source": [
    "A la place d'utiliser le bouton <code>▶| Exécuter</code>, il est possible d'appuyer simultanément sur les touches <code>Ctrl</code> + <code>Entrée</code>.\n",
    "\n",
    "<b>Consigne : dans la cellule ci-dessous, utiliser les touches <code>Ctrl</code> + <code>Entrée</code> pour exécuter le code.</b>"
   ]
  },
  {
   "cell_type": "code",
   "execution_count": null,
   "metadata": {},
   "outputs": [],
   "source": [
    "print(\"Bravo, vous avez exécuté le code à l'aide des touches Ctrl + Entrée (si vous avez bien suivi la consigne)\")"
   ]
  },
  {
   "cell_type": "markdown",
   "metadata": {},
   "source": [
    "# Les commentaires\n",
    "\n",
    "Il est possible d'écrire des commentaires pour commenter le code.\n",
    "\n",
    "Un commentaire ne sera pas exécuté et sert juste à apporter des informations à la personne qui lit le code.\n",
    "\n",
    "Il faut écrire le commentaire après le symbole <code>#</code>.\n",
    "\n",
    "<b>Consigne : réfléchir à ce que la cellule ci-dessous devrait afficher si on l'exécute. Puis, l'exécuter pour vérifier.</b>"
   ]
  },
  {
   "cell_type": "code",
   "execution_count": null,
   "metadata": {},
   "outputs": [],
   "source": [
    "# Ceci est un commentaire. Ainsi, il ne sera pas exécuté."
   ]
  },
  {
   "cell_type": "markdown",
   "metadata": {},
   "source": [
    "Après l'exécution du code de la cellule ci-dessus, rien ne s'est passé, ce qui est normal car il n'y avait qu'un commentaire.\n",
    "\n",
    "<b>Consigne : réfléchir à ce que la cellule ci-dessous devrait afficher si on l'exécute. Puis, l'exécuter pour vérifier.</b>"
   ]
  },
  {
   "cell_type": "code",
   "execution_count": null,
   "metadata": {},
   "outputs": [],
   "source": [
    "# Premier commentaire.\n",
    "\n",
    "print(\"Normal qu'il n'y ait que ce texte qui s'affiche\")\n",
    "\n",
    "# Deuxième commentaire."
   ]
  },
  {
   "attachments": {},
   "cell_type": "markdown",
   "metadata": {},
   "source": [
    "# Les variables\n",
    "\n",
    "Une variable est un code alpha-numérique (donc du texte avec éventuellement des chiffres).\n",
    "\n",
    "Une variable permet de stocker des informations afin de pouvoir éventuellement s'en reservir.\n",
    "\n",
    "Dans la cellule ci-dessous on déclare une variable <code>a</code> à laquelle on affecte la valeur 2. Puis, on affiche le contenu de cette variable a.\n",
    "\n",
    "<b>Consigne : réfléchir à ce que la cellule ci-dessous devrait afficher si on l'exécute. Puis, l'exécuter pour vérifier.</b>"
   ]
  },
  {
   "cell_type": "code",
   "execution_count": null,
   "metadata": {},
   "outputs": [],
   "source": [
    "a = 2\n",
    "\n",
    "print(a)"
   ]
  },
  {
   "cell_type": "markdown",
   "metadata": {},
   "source": [
    "Autre exemple avec plusieurs variables.\n",
    "\n",
    "<b>Consigne : réfléchir à ce que la cellule ci-dessous devrait afficher si on l'exécute. Puis, l'exécuter pour vérifier.</b>"
   ]
  },
  {
   "cell_type": "code",
   "execution_count": null,
   "metadata": {},
   "outputs": [],
   "source": [
    "a = 4\n",
    "\n",
    "maison = 6\n",
    "\n",
    "autre = \"Des choses écrites\"\n",
    "\n",
    "print(maison)\n",
    "\n",
    "print(a)\n",
    "\n",
    "print(autre)"
   ]
  },
  {
   "cell_type": "markdown",
   "metadata": {},
   "source": [
    "<b>Consigne : Dans la cellule ci-dessous : déclarer au moins 2 variables. L'une doit contenir du texte et l'autre un chiffre. Puis, afficher le contenu de ces variables.</b>"
   ]
  },
  {
   "cell_type": "code",
   "execution_count": null,
   "metadata": {},
   "outputs": [],
   "source": []
  },
  {
   "cell_type": "markdown",
   "metadata": {},
   "source": [
    "<details><summary><i style=\"color:#03A72D\">Cliquer ici pour avoir un exemple de réponse possible à la question précédente</i></summary>\n",
    "\n",
    "```python\n",
    "a = 1\n",
    "b = \"texte\"\n",
    "print(a)\n",
    "print(b)\n",
    "```\n",
    "\n",
    "</details>\n",
    "\n",
    "Il est aussi possible de modifier le contenu d'une variable.\n",
    "\n",
    "<b>Consigne : réfléchir à ce que la cellule ci-dessous devrait afficher si on l'exécute. Puis, l'exécuter pour vérifier.</b>"
   ]
  },
  {
   "cell_type": "code",
   "execution_count": null,
   "metadata": {},
   "outputs": [],
   "source": [
    "a = 5\n",
    "\n",
    "a = 5 + 2\n",
    "\n",
    "print(a)\n",
    "\n",
    "a = a + 10\n",
    "\n",
    "print(a)"
   ]
  },
  {
   "cell_type": "markdown",
   "metadata": {},
   "source": [
    "Il est aussi possible d'additionner des variables entre elles.\n",
    "\n",
    "<b>Consigne : réfléchir à ce que la cellule ci-dessous devrait afficher si on l'exécute. Puis, l'exécuter pour vérifier.</b>"
   ]
  },
  {
   "cell_type": "code",
   "execution_count": null,
   "metadata": {},
   "outputs": [],
   "source": [
    "a = 2\n",
    "b = 6\n",
    "c = a + b\n",
    "print(c)\n",
    "b = b + 10\n",
    "print(b)"
   ]
  },
  {
   "cell_type": "markdown",
   "metadata": {},
   "source": [
    "<b>Consigne : réfléchir à ce que la cellule ci-dessous devrait afficher si on l'exécute. Puis, l'exécuter pour vérifier.</b>"
   ]
  },
  {
   "cell_type": "code",
   "execution_count": null,
   "metadata": {},
   "outputs": [],
   "source": [
    "a = 3\n",
    "b = 2\n",
    "a = 4\n",
    "print(a)\n",
    "# Ci-dessous a prend la valeur de b, mais ne reste pas lié à b pour toujours. Si b change par la suite, cela n'affectera pas a.\n",
    "a = b\n",
    "b = 6\n",
    "print(a)"
   ]
  },
  {
   "cell_type": "markdown",
   "metadata": {},
   "source": [
    "# Afficher des variables et du texte\n",
    "\n",
    "Voici ci-dessous un exemple pour afficher du texte et une variable à l'aide de la fonction <code>print()</code>.\n",
    "\n",
    "<b>Consigne : exécuter la cellule ci-dessous pour voir le résultat.</b>"
   ]
  },
  {
   "cell_type": "code",
   "execution_count": null,
   "metadata": {},
   "outputs": [],
   "source": [
    "a = 5\n",
    "print(\"La valeur de a est\", a)"
   ]
  },
  {
   "cell_type": "markdown",
   "metadata": {},
   "source": [
    "<b>Consigne : Sur le même principe que la cellule ci-dessus, compléter le code ci-dessous pour que cela affiche un texte qui indique la valeur de b</b>"
   ]
  },
  {
   "cell_type": "code",
   "execution_count": null,
   "metadata": {},
   "outputs": [],
   "source": [
    "b = 10\n",
    "# Compléter votre code ci-dessous\n"
   ]
  },
  {
   "cell_type": "markdown",
   "metadata": {},
   "source": [
    "<details><summary><i style=\"color:#03A72D\">Cliquer ici pour avoir un exemple de réponse possible à la question précédente</i></summary>\n",
    "\n",
    "```python\n",
    "b = 10\n",
    "print(\"La valeur de b est\", b)\n",
    "```\n",
    "\n",
    "</details>\n",
    "\n",
    "<b>Consigne : Compléter le code ci-dessous en tenant compte des commentaires.</b>"
   ]
  },
  {
   "cell_type": "code",
   "execution_count": null,
   "metadata": {},
   "outputs": [],
   "source": [
    "taille = 1.70\n",
    "poids = 65\n",
    "\n",
    "print(\"La taille est de\", taille, \"m\")\n",
    "# Sur la ligne suivante indiquer le code pour afficher le poids en kg (en suivant le même modèle que pour la taille).\n"
   ]
  },
  {
   "cell_type": "markdown",
   "metadata": {},
   "source": [
    "<details><summary><i style=\"color:#03A72D\">Cliquer ici pour avoir un exemple de réponse possible à la question précédente</i></summary>\n",
    "\n",
    "```python\n",
    "print(\"Le poids est de\", poids, \"kg\")\n",
    "```\n",
    "\n",
    "</details>"
   ]
  },
  {
   "cell_type": "markdown",
   "metadata": {},
   "source": [
    "<b>Consigne : Ci-dessous, proposer un code avec au moins 2 variables et au moins un <code>print</code> qui affiche le contenu de ces variables.</b>"
   ]
  },
  {
   "cell_type": "code",
   "execution_count": null,
   "metadata": {},
   "outputs": [],
   "source": []
  },
  {
   "cell_type": "markdown",
   "metadata": {},
   "source": [
    "<details><summary><i style=\"color:#03A72D\">Cliquer ici pour avoir un exemple de réponse possible à la question précédente</i></summary>\n",
    "\n",
    "```python\n",
    "a = 2\n",
    "b = \"test\"\n",
    "print(\"La variable a est\", a, \"et la variable b est\", b)\n",
    "```\n",
    "\n",
    "</details>\n",
    "\n",
    "# Bilan\n",
    "A ce stade vous savez :\n",
    "- exécuter du code Python sur cette page (soit avec le bouton <code>▶| Exécuter</code> soit avec Ctrl + Entrée),\n",
    "- utiliser la fonction <code>print()</code> pour afficher quelque chose, \n",
    "- qu'il faut écrire le texte entre des guillemets,\n",
    "- mettre des commentaires,\n",
    "- manipuler des variables,\n",
    "- afficher du texte et des variables dans un même <code>print</code>.\n",
    "\n",
    "Beau travail !"
   ]
  }
 ],
 "metadata": {
  "kernelspec": {
   "display_name": "Python 3",
   "language": "python",
   "name": "python3"
  },
  "language_info": {
   "codemirror_mode": {
    "name": "ipython",
    "version": 3
   },
   "file_extension": ".py",
   "mimetype": "text/x-python",
   "name": "python",
   "nbconvert_exporter": "python",
   "pygments_lexer": "ipython3",
   "version": "3.7.6"
  }
 },
 "nbformat": 4,
 "nbformat_minor": 4
}
