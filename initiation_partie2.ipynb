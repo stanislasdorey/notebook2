{
 "cells": [
  {
   "cell_type": "markdown",
   "metadata": {},
   "source": [
    "# Les structures conditionnelles\n",
    "\n",
    "En Python il est possible de tester des conditions afin de savoir si certaines actions vont être effectuées.\n",
    "\n",
    "Par exemple, dans la cellule ci-dessous, le code teste si la variable <code>a</code> est supérieure à 0.\n",
    "\n",
    "<b>Consigne : réfléchir à ce que la cellule ci-dessous devrait afficher si on l'exécute. Puis, l'exécuter pour vérifier.</b>\n",
    "\n",
    "<i>Rappel, pour exécuter le code d'une cellule, il faut cliquer sur le bouton <code>▶| Exécuter</code> en haut de la page ou appuyer simultanément sur les touches <code>Ctrl</code> + <code>Entrée</code>."
   ]
  },
  {
   "cell_type": "code",
   "execution_count": null,
   "metadata": {},
   "outputs": [],
   "source": [
    "a = 5\n",
    "\n",
    "if a > 0:\n",
    "    print(\"La variable a est positive\")\n",
    "else:\n",
    "    print(\"La variable a est négative\")"
   ]
  },
  {
   "cell_type": "markdown",
   "metadata": {},
   "source": [
    "Dans le code précédent <code>if a > 0:</code> correspond à : \"si <code>a</code> est supérieur à 0 alors on fait ce qui est indenté après\".\n",
    "\n",
    "<i>L'<font color=\"red\">indentation</font> correspond au décalage à gauche. Il peut être fait avec la touche tabulation du clavier : <code> ↹ </code>. Si l'indentation n'est pas respectée, le code ne fonctionne pas.</i>\n",
    "\n",
    "Par la suite, <code>else</code> correspond à : \"si la condition testée dans le <code>if</code> n'est pas vraie alors on fait ce qui est indenté après\".\n",
    "\n",
    "<b>Consigne : réfléchir à ce que la cellule ci-dessous devrait afficher si on l'exécute. Puis, l'exécuter pour vérifier.</b>"
   ]
  },
  {
   "cell_type": "code",
   "execution_count": null,
   "metadata": {},
   "outputs": [],
   "source": [
    "b = 10\n",
    "\n",
    "if b < 5:\n",
    "    print(\"La variable b est inférieure à 5\")\n",
    "elif b == 10:\n",
    "    print(\"La variable b vaut 10\")\n",
    "else:\n",
    "    print(\"la variable b est supérieure ou égale à 5 mais ne vaut pas 10\")    "
   ]
  },
  {
   "cell_type": "markdown",
   "metadata": {},
   "source": [
    "Dans le code précédent, on teste d'abord si <code>b</code> est inférieur à 5. \n",
    "\n",
    "Puis, on teste avec <code>elif</code> qui est la contraction de \"else if\" si <code>b</code> est égal à 10. Pour cela on utilise l'opérateur <code>==</code>.\n",
    "\n",
    "<b>Consigne : dans la cellule ci-dessous, définir une variable égale à un nombre. Puis, tester si cette variable contient un nombre positif, négatif ou égal à zéro et afficher la réponse.</b>"
   ]
  },
  {
   "cell_type": "code",
   "execution_count": null,
   "metadata": {},
   "outputs": [],
   "source": []
  },
  {
   "cell_type": "markdown",
   "metadata": {},
   "source": [
    "<details><summary><i style=\"color:#03A72D\">Cliquer ici pour avoir un exemple de réponse possible à la question précédente</i></summary>\n",
    "\n",
    "```python\n",
    "nb = -4\n",
    "if nb > 0:\n",
    "    print(\"le nombre est positif\")\n",
    "elif nb == 0:\n",
    "    print(\"le nombre est 0\")\n",
    "else:\n",
    "    print(\"le nombre est négatif\") \n",
    "    \n",
    "```\n",
    "\n",
    "</details>\n",
    "\n",
    "\n",
    "<b>Consigne : réfléchir à ce que les cellules ci-dessous devraient afficher si elles sont exécutées. Puis, les exécuter pour vérifier.</b>"
   ]
  },
  {
   "cell_type": "code",
   "execution_count": null,
   "metadata": {},
   "outputs": [],
   "source": [
    "if 6 > 7:\n",
    "    print(\"Oui\")"
   ]
  },
  {
   "cell_type": "code",
   "execution_count": null,
   "metadata": {},
   "outputs": [],
   "source": [
    "if 6 > 7:\n",
    "    print(\"Oui\")\n",
    "else:\n",
    "    print(\"Non\")"
   ]
  },
  {
   "cell_type": "code",
   "execution_count": null,
   "metadata": {},
   "outputs": [],
   "source": [
    "var = 'Panda'\n",
    "if var == \"panda\":\n",
    "    print(\"Animal\")\n",
    "elif var == \"Panda\":\n",
    "    print(\"Zoo\")\n",
    "else:\n",
    "    print(\"Autre\")"
   ]
  },
  {
   "cell_type": "markdown",
   "metadata": {},
   "source": [
    "<details><summary><i style=\"color:#03A72D\">Si besoin, cliquer ici pour avoir une explication.</i></summary>\n",
    "\n",
    "On peut noter ici que Python est sensible à la casse (si c'est une majuscule ou une minuscule).\n",
    "\n",
    "</details>"
   ]
  },
  {
   "cell_type": "code",
   "execution_count": null,
   "metadata": {},
   "outputs": [],
   "source": [
    "temp = 42\n",
    "if temp > 30:\n",
    "    print(\"Chaud\")\n",
    "elif temp > 40:\n",
    "    print(\"Très chaud\")\n",
    "elif temp > 20:\n",
    "    print(\"Confortable\") \n",
    "else:\n",
    "    print(\"Froid\")"
   ]
  },
  {
   "cell_type": "markdown",
   "metadata": {},
   "source": [
    "<details><summary><i style=\"color:#03A72D\">Si besoin, cliquer ici pour avoir une explication.</i></summary>\n",
    "\n",
    "Dès qu'une condition est vraie cela arrête la structure conditionnelle.\n",
    "Donc ici, le premier <code>if</code> est vrai (temp est bien supérieur à 30) donc cela s'arrête là.\n",
    "\n",
    "</details>"
   ]
  },
  {
   "cell_type": "code",
   "execution_count": null,
   "metadata": {},
   "outputs": [],
   "source": [
    "temp = 15\n",
    "if temp > 30:\n",
    "    print(\"Chaud\")\n",
    "elif temp > 40:\n",
    "    print(\"Très chaud\")\n",
    "elif temp > 20:\n",
    "    print(\"Confortable\")\n",
    "else:\n",
    "    print(\"Froid\")"
   ]
  },
  {
   "cell_type": "markdown",
   "metadata": {},
   "source": [
    "# Bilan\n",
    "A ce stade vous savez :\n",
    "- ce qu'est l'indentation,\n",
    "- définir une structure contionnelle avec <code>if</code>, <code>elif</code> et <code>else</code>.\n",
    "\n",
    "Beau travail !"
   ]
  }
 ],
 "metadata": {
  "kernelspec": {
   "display_name": "Python 3",
   "language": "python",
   "name": "python3"
  },
  "language_info": {
   "codemirror_mode": {
    "name": "ipython",
    "version": 3
   },
   "file_extension": ".py",
   "mimetype": "text/x-python",
   "name": "python",
   "nbconvert_exporter": "python",
   "pygments_lexer": "ipython3",
   "version": "3.7.6"
  }
 },
 "nbformat": 4,
 "nbformat_minor": 4
}
